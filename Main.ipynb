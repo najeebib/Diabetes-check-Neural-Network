{
 "cells": [
  {
   "cell_type": "code",
   "execution_count": 1,
   "id": "54579ce8-928e-4d66-b358-b8621511f4d2",
   "metadata": {},
   "outputs": [],
   "source": [
    "import numpy as np\n",
    "import torch\n",
    "import torch.nn as nn\n",
    "import pandas as pd\n",
    "from sklearn.preprocessing import StandardScaler\n",
    "from torch.utils.data import Dataset"
   ]
  },
  {
   "cell_type": "code",
   "execution_count": 2,
   "id": "7a8b45fc-22b4-4b90-aa7e-c8d58d36e0e7",
   "metadata": {},
   "outputs": [],
   "source": [
    "# Load the dataset using Pandas\n",
    "data = pd.read_csv('diabetes.csv')"
   ]
  },
  {
   "cell_type": "code",
   "execution_count": 3,
   "id": "9735d825-c626-4e5f-b94a-4a94e7861d51",
   "metadata": {},
   "outputs": [],
   "source": [
    "# For x: Extract out the dataset from all the rows (all samples) and all columns except last column (all features). \n",
    "# For y: Extract out the last column (which is the label)\n",
    "# Convert both to numpy using the .values method\n",
    "x = data.iloc[:,0:-1].values\n",
    "y_string = list(data.iloc[:,-1])"
   ]
  },
  {
   "cell_type": "code",
   "execution_count": 4,
   "id": "2f4049dc-96ff-4e2f-b7c0-aeca9eb979a4",
   "metadata": {},
   "outputs": [
    {
     "name": "stdout",
     "output_type": "stream",
     "text": [
      "[[  6.  148.   72.   35.    0.   33.6  50. ]\n",
      " [  1.   85.   66.   29.    0.   26.6  31. ]\n",
      " [  8.  183.   64.    0.    0.   23.3  32. ]]\n",
      "['positive', 'negative', 'positive']\n"
     ]
    }
   ],
   "source": [
    "print(x[:3])\n",
    "print(y_string[:3])"
   ]
  },
  {
   "cell_type": "code",
   "execution_count": 5,
   "id": "d14835a1-423b-4afe-a4b2-d71cc9d6e9be",
   "metadata": {},
   "outputs": [],
   "source": [
    "# neural network only understand numbers! So convert the string to labels\n",
    "y_int = []\n",
    "for s in y_string:\n",
    "    if s == 'positive':\n",
    "        y_int.append(1)\n",
    "    else:\n",
    "        y_int.append(0)"
   ]
  },
  {
   "cell_type": "code",
   "execution_count": 6,
   "id": "d8b603c5-c4c7-4b0c-a0ce-0e2eb078d425",
   "metadata": {},
   "outputs": [],
   "source": [
    "# convert to an array\n",
    "y = np.array(y_int, dtype='float64')"
   ]
  },
  {
   "cell_type": "code",
   "execution_count": 7,
   "id": "920b7424-9be0-4ddf-a284-a2be6d1ca8a2",
   "metadata": {},
   "outputs": [],
   "source": [
    "# Feature Normalization. All features should have the same range of values (-1,1)\n",
    "sc = StandardScaler()\n",
    "x = sc.fit_transform(x)"
   ]
  },
  {
   "cell_type": "code",
   "execution_count": 8,
   "id": "be454e3a-a8ac-425c-ae0a-b334c029c618",
   "metadata": {},
   "outputs": [],
   "source": [
    "#  convert the arrays to PyTorch tensors\n",
    "x = torch.tensor(x)\n",
    "# add an extra dimension to convert this array to 2D\n",
    "y = torch.tensor(y).unsqueeze(1)"
   ]
  },
  {
   "cell_type": "code",
   "execution_count": 9,
   "id": "06983f8d-3d48-493e-9179-c79a06faa71e",
   "metadata": {},
   "outputs": [
    {
     "name": "stdout",
     "output_type": "stream",
     "text": [
      "torch.Size([768, 7])\n",
      "torch.Size([768, 1])\n"
     ]
    }
   ],
   "source": [
    "print(x.shape)\n",
    "print(y.shape)"
   ]
  },
  {
   "cell_type": "code",
   "execution_count": 10,
   "id": "f573bd46-51a7-467d-89f7-8ce3b1e2f3f7",
   "metadata": {},
   "outputs": [],
   "source": [
    "class Dataset(Dataset):\n",
    "    def __init__(self, x, y):\n",
    "        self.x = x\n",
    "        self.y = y\n",
    "\n",
    "    def __getitem__(self, index):\n",
    "        # Get one item from the dataset\n",
    "        return self.x[index], self.y[index]\n",
    "\n",
    "    def __len__(self):\n",
    "        return len(self.x)"
   ]
  },
  {
   "cell_type": "code",
   "execution_count": 11,
   "id": "58b3bdd2-d923-4b8d-8765-b60bd0404364",
   "metadata": {},
   "outputs": [],
   "source": [
    "dataset = Dataset(x,y)"
   ]
  },
  {
   "cell_type": "code",
   "execution_count": 12,
   "id": "d9fa42d1-5c98-4fff-9836-2803968a268e",
   "metadata": {},
   "outputs": [
    {
     "data": {
      "text/plain": [
       "768"
      ]
     },
     "execution_count": 12,
     "metadata": {},
     "output_type": "execute_result"
    }
   ],
   "source": [
    "len(dataset)"
   ]
  },
  {
   "cell_type": "code",
   "execution_count": 13,
   "id": "9ab0b5b4-ead5-47f8-83e7-95f2080cc004",
   "metadata": {},
   "outputs": [],
   "source": [
    "# Load the data to dataloader for batch processing and shuffling\n",
    "train_loader = torch.utils.data.DataLoader(dataset = dataset,\n",
    "                           batch_size = 32,\n",
    "                           shuffle = True)"
   ]
  },
  {
   "cell_type": "code",
   "execution_count": 14,
   "id": "ccb92109-6784-4887-8e1a-b90e55602dfe",
   "metadata": {},
   "outputs": [
    {
     "data": {
      "text/plain": [
       "<torch.utils.data.dataloader.DataLoader at 0x2721cd75360>"
      ]
     },
     "execution_count": 14,
     "metadata": {},
     "output_type": "execute_result"
    }
   ],
   "source": [
    "train_loader"
   ]
  },
  {
   "cell_type": "code",
   "execution_count": 15,
   "id": "5a2e5589-a4ab-40bf-8262-eea3ef1bf521",
   "metadata": {},
   "outputs": [
    {
     "name": "stdout",
     "output_type": "stream",
     "text": [
      "There is 24 batches in the dataset\n",
      "For one iteration (batch), there is:\n",
      "Data:    torch.Size([32, 7])\n",
      "Labels:  torch.Size([32, 1])\n"
     ]
    }
   ],
   "source": [
    "# print data loader\n",
    "print(\"There is {} batches in the dataset\".format(len(train_loader)))\n",
    "for (x,y) in train_loader:\n",
    "    print(\"For one iteration (batch), there is:\")\n",
    "    print(\"Data:    {}\".format(x.shape))\n",
    "    print(\"Labels:  {}\".format(y.shape))\n",
    "    break"
   ]
  },
  {
   "cell_type": "code",
   "execution_count": 16,
   "id": "9d45bf4a-30ad-4316-9f86-f0e7aa385a52",
   "metadata": {},
   "outputs": [],
   "source": [
    "class Model(nn.Module):\n",
    "    def __init__(self,input_features, output_features):\n",
    "        super(Model, self).__init__()\n",
    "        self.fc1 = nn.Linear(input_features, 5)\n",
    "        self.fc2 = nn.Linear(5, 4)\n",
    "        self.fc3 = nn.Linear(4, 3)\n",
    "        self.fc4 = nn.Linear(3, output_features)\n",
    "        self.sigmoid = nn.Sigmoid()\n",
    "        self.tanh = nn.Tanh()\n",
    "\n",
    "    def forward(self, x):\n",
    "        out = self.fc1(x)\n",
    "        out = self.tanh(out)\n",
    "        out = self.fc2(out)\n",
    "        out = self.tanh(out)\n",
    "        out = self.fc3(out)\n",
    "        out = self.tanh(out)\n",
    "        out = self.fc4(out)\n",
    "        out = self.sigmoid(out)\n",
    "        return out"
   ]
  },
  {
   "cell_type": "code",
   "execution_count": 19,
   "id": "e09b7e3d-bc94-43c7-8e28-c8396aaccc2c",
   "metadata": {},
   "outputs": [
    {
     "name": "stderr",
     "output_type": "stream",
     "text": [
      "C:\\Users\\najee\\AppData\\Local\\Programs\\Python\\Python310\\lib\\site-packages\\torch\\nn\\_reduction.py:42: UserWarning: size_average and reduce args will be deprecated, please use reduction='mean' instead.\n",
      "  warnings.warn(warning.format(ret))\n"
     ]
    }
   ],
   "source": [
    "# Create the network\n",
    "net = Model(7,1)\n",
    "# define loss function\n",
    "criterion = torch.nn.BCELoss(reduction='mean')\n",
    "# use SGD with momentum with a learning rate of 0.1\n",
    "optimizer = torch.optim.SGD(net.parameters(), lr=0.1, momentum=0.9)"
   ]
  },
  {
   "cell_type": "code",
   "execution_count": 29,
   "id": "9e54c235-300f-4b9f-9f69-03b3d2298575",
   "metadata": {},
   "outputs": [
    {
     "name": "stdout",
     "output_type": "stream",
     "text": [
      "Epoch 1/200, Loss: 0.45, Accuracy: 0.719\n",
      "Epoch 2/200, Loss: 0.323, Accuracy: 0.812\n",
      "Epoch 3/200, Loss: 0.374, Accuracy: 0.875\n",
      "Epoch 4/200, Loss: 0.438, Accuracy: 0.812\n",
      "Epoch 5/200, Loss: 0.191, Accuracy: 0.938\n",
      "Epoch 6/200, Loss: 0.267, Accuracy: 0.906\n",
      "Epoch 7/200, Loss: 0.411, Accuracy: 0.688\n",
      "Epoch 8/200, Loss: 0.342, Accuracy: 0.844\n",
      "Epoch 9/200, Loss: 0.467, Accuracy: 0.781\n",
      "Epoch 10/200, Loss: 0.457, Accuracy: 0.719\n",
      "Epoch 11/200, Loss: 0.411, Accuracy: 0.812\n",
      "Epoch 12/200, Loss: 0.464, Accuracy: 0.75\n",
      "Epoch 13/200, Loss: 0.511, Accuracy: 0.781\n",
      "Epoch 14/200, Loss: 0.431, Accuracy: 0.781\n",
      "Epoch 15/200, Loss: 0.621, Accuracy: 0.688\n",
      "Epoch 16/200, Loss: 0.496, Accuracy: 0.812\n",
      "Epoch 17/200, Loss: 0.566, Accuracy: 0.75\n",
      "Epoch 18/200, Loss: 0.214, Accuracy: 0.938\n",
      "Epoch 19/200, Loss: 0.342, Accuracy: 0.781\n",
      "Epoch 20/200, Loss: 0.39, Accuracy: 0.719\n",
      "Epoch 21/200, Loss: 0.477, Accuracy: 0.75\n",
      "Epoch 22/200, Loss: 0.484, Accuracy: 0.75\n",
      "Epoch 23/200, Loss: 0.265, Accuracy: 0.906\n",
      "Epoch 24/200, Loss: 0.766, Accuracy: 0.688\n",
      "Epoch 25/200, Loss: 0.392, Accuracy: 0.812\n",
      "Epoch 26/200, Loss: 0.549, Accuracy: 0.688\n",
      "Epoch 27/200, Loss: 0.301, Accuracy: 0.906\n",
      "Epoch 28/200, Loss: 0.415, Accuracy: 0.812\n",
      "Epoch 29/200, Loss: 0.375, Accuracy: 0.812\n",
      "Epoch 30/200, Loss: 0.536, Accuracy: 0.75\n",
      "Epoch 31/200, Loss: 0.428, Accuracy: 0.844\n",
      "Epoch 32/200, Loss: 0.374, Accuracy: 0.844\n",
      "Epoch 33/200, Loss: 0.364, Accuracy: 0.875\n",
      "Epoch 34/200, Loss: 0.375, Accuracy: 0.844\n",
      "Epoch 35/200, Loss: 0.541, Accuracy: 0.75\n",
      "Epoch 36/200, Loss: 0.403, Accuracy: 0.844\n",
      "Epoch 37/200, Loss: 0.456, Accuracy: 0.812\n",
      "Epoch 38/200, Loss: 0.348, Accuracy: 0.906\n",
      "Epoch 39/200, Loss: 0.7, Accuracy: 0.688\n",
      "Epoch 40/200, Loss: 0.374, Accuracy: 0.844\n",
      "Epoch 41/200, Loss: 0.485, Accuracy: 0.719\n",
      "Epoch 42/200, Loss: 0.356, Accuracy: 0.844\n",
      "Epoch 43/200, Loss: 0.483, Accuracy: 0.812\n",
      "Epoch 44/200, Loss: 0.432, Accuracy: 0.844\n",
      "Epoch 45/200, Loss: 0.273, Accuracy: 0.906\n",
      "Epoch 46/200, Loss: 0.331, Accuracy: 0.875\n",
      "Epoch 47/200, Loss: 0.425, Accuracy: 0.75\n",
      "Epoch 48/200, Loss: 0.48, Accuracy: 0.719\n",
      "Epoch 49/200, Loss: 0.349, Accuracy: 0.812\n",
      "Epoch 50/200, Loss: 0.411, Accuracy: 0.781\n",
      "Epoch 51/200, Loss: 0.373, Accuracy: 0.844\n",
      "Epoch 52/200, Loss: 0.313, Accuracy: 0.812\n",
      "Epoch 53/200, Loss: 0.527, Accuracy: 0.75\n",
      "Epoch 54/200, Loss: 0.555, Accuracy: 0.656\n",
      "Epoch 55/200, Loss: 0.6, Accuracy: 0.719\n",
      "Epoch 56/200, Loss: 0.444, Accuracy: 0.781\n",
      "Epoch 57/200, Loss: 0.406, Accuracy: 0.812\n",
      "Epoch 58/200, Loss: 0.335, Accuracy: 0.875\n",
      "Epoch 59/200, Loss: 0.34, Accuracy: 0.875\n",
      "Epoch 60/200, Loss: 0.31, Accuracy: 0.906\n",
      "Epoch 61/200, Loss: 0.418, Accuracy: 0.781\n",
      "Epoch 62/200, Loss: 0.363, Accuracy: 0.875\n",
      "Epoch 63/200, Loss: 0.458, Accuracy: 0.688\n",
      "Epoch 64/200, Loss: 0.346, Accuracy: 0.844\n",
      "Epoch 65/200, Loss: 0.539, Accuracy: 0.688\n",
      "Epoch 66/200, Loss: 0.314, Accuracy: 0.906\n",
      "Epoch 67/200, Loss: 0.466, Accuracy: 0.75\n",
      "Epoch 68/200, Loss: 0.301, Accuracy: 0.906\n",
      "Epoch 69/200, Loss: 0.435, Accuracy: 0.812\n",
      "Epoch 70/200, Loss: 0.283, Accuracy: 0.906\n",
      "Epoch 71/200, Loss: 0.555, Accuracy: 0.75\n",
      "Epoch 72/200, Loss: 0.492, Accuracy: 0.781\n",
      "Epoch 73/200, Loss: 0.338, Accuracy: 0.844\n",
      "Epoch 74/200, Loss: 0.381, Accuracy: 0.844\n",
      "Epoch 75/200, Loss: 0.264, Accuracy: 0.906\n",
      "Epoch 76/200, Loss: 0.565, Accuracy: 0.719\n",
      "Epoch 77/200, Loss: 0.336, Accuracy: 0.812\n",
      "Epoch 78/200, Loss: 0.434, Accuracy: 0.75\n",
      "Epoch 79/200, Loss: 0.23, Accuracy: 0.906\n",
      "Epoch 80/200, Loss: 0.435, Accuracy: 0.781\n",
      "Epoch 81/200, Loss: 0.592, Accuracy: 0.719\n",
      "Epoch 82/200, Loss: 0.461, Accuracy: 0.75\n",
      "Epoch 83/200, Loss: 0.482, Accuracy: 0.781\n",
      "Epoch 84/200, Loss: 0.526, Accuracy: 0.781\n",
      "Epoch 85/200, Loss: 0.601, Accuracy: 0.75\n",
      "Epoch 86/200, Loss: 0.509, Accuracy: 0.688\n",
      "Epoch 87/200, Loss: 0.339, Accuracy: 0.906\n",
      "Epoch 88/200, Loss: 0.503, Accuracy: 0.781\n",
      "Epoch 89/200, Loss: 0.286, Accuracy: 0.938\n",
      "Epoch 90/200, Loss: 0.342, Accuracy: 0.906\n",
      "Epoch 91/200, Loss: 0.407, Accuracy: 0.844\n",
      "Epoch 92/200, Loss: 0.527, Accuracy: 0.781\n",
      "Epoch 93/200, Loss: 0.459, Accuracy: 0.781\n",
      "Epoch 94/200, Loss: 0.377, Accuracy: 0.812\n",
      "Epoch 95/200, Loss: 0.496, Accuracy: 0.75\n",
      "Epoch 96/200, Loss: 0.37, Accuracy: 0.844\n",
      "Epoch 97/200, Loss: 0.309, Accuracy: 0.875\n",
      "Epoch 98/200, Loss: 0.253, Accuracy: 0.938\n",
      "Epoch 99/200, Loss: 0.349, Accuracy: 0.812\n",
      "Epoch 100/200, Loss: 0.349, Accuracy: 0.875\n",
      "Epoch 101/200, Loss: 0.336, Accuracy: 0.875\n",
      "Epoch 102/200, Loss: 0.317, Accuracy: 0.906\n",
      "Epoch 103/200, Loss: 0.461, Accuracy: 0.844\n",
      "Epoch 104/200, Loss: 0.451, Accuracy: 0.781\n",
      "Epoch 105/200, Loss: 0.338, Accuracy: 0.812\n",
      "Epoch 106/200, Loss: 0.388, Accuracy: 0.781\n",
      "Epoch 107/200, Loss: 0.276, Accuracy: 0.875\n",
      "Epoch 108/200, Loss: 0.428, Accuracy: 0.781\n",
      "Epoch 109/200, Loss: 0.334, Accuracy: 0.844\n",
      "Epoch 110/200, Loss: 0.504, Accuracy: 0.75\n",
      "Epoch 111/200, Loss: 0.373, Accuracy: 0.844\n",
      "Epoch 112/200, Loss: 0.504, Accuracy: 0.75\n",
      "Epoch 113/200, Loss: 0.34, Accuracy: 0.906\n",
      "Epoch 114/200, Loss: 0.481, Accuracy: 0.812\n",
      "Epoch 115/200, Loss: 0.393, Accuracy: 0.781\n",
      "Epoch 116/200, Loss: 0.616, Accuracy: 0.719\n",
      "Epoch 117/200, Loss: 0.342, Accuracy: 0.906\n",
      "Epoch 118/200, Loss: 0.447, Accuracy: 0.812\n",
      "Epoch 119/200, Loss: 0.528, Accuracy: 0.812\n",
      "Epoch 120/200, Loss: 0.497, Accuracy: 0.75\n",
      "Epoch 121/200, Loss: 0.559, Accuracy: 0.719\n",
      "Epoch 122/200, Loss: 0.509, Accuracy: 0.781\n",
      "Epoch 123/200, Loss: 0.449, Accuracy: 0.781\n",
      "Epoch 124/200, Loss: 0.397, Accuracy: 0.781\n",
      "Epoch 125/200, Loss: 0.558, Accuracy: 0.656\n",
      "Epoch 126/200, Loss: 0.339, Accuracy: 0.844\n",
      "Epoch 127/200, Loss: 0.491, Accuracy: 0.781\n",
      "Epoch 128/200, Loss: 0.502, Accuracy: 0.812\n",
      "Epoch 129/200, Loss: 0.292, Accuracy: 0.875\n",
      "Epoch 130/200, Loss: 0.371, Accuracy: 0.844\n",
      "Epoch 131/200, Loss: 0.373, Accuracy: 0.844\n",
      "Epoch 132/200, Loss: 0.413, Accuracy: 0.812\n",
      "Epoch 133/200, Loss: 0.394, Accuracy: 0.875\n",
      "Epoch 134/200, Loss: 0.354, Accuracy: 0.812\n",
      "Epoch 135/200, Loss: 0.336, Accuracy: 0.844\n",
      "Epoch 136/200, Loss: 0.527, Accuracy: 0.75\n",
      "Epoch 137/200, Loss: 0.393, Accuracy: 0.875\n",
      "Epoch 138/200, Loss: 0.425, Accuracy: 0.844\n",
      "Epoch 139/200, Loss: 0.464, Accuracy: 0.781\n",
      "Epoch 140/200, Loss: 0.497, Accuracy: 0.812\n",
      "Epoch 141/200, Loss: 0.511, Accuracy: 0.781\n",
      "Epoch 142/200, Loss: 0.365, Accuracy: 0.812\n",
      "Epoch 143/200, Loss: 0.3, Accuracy: 0.875\n",
      "Epoch 144/200, Loss: 0.546, Accuracy: 0.812\n",
      "Epoch 145/200, Loss: 0.654, Accuracy: 0.719\n",
      "Epoch 146/200, Loss: 0.358, Accuracy: 0.906\n",
      "Epoch 147/200, Loss: 0.264, Accuracy: 0.938\n",
      "Epoch 148/200, Loss: 0.365, Accuracy: 0.875\n",
      "Epoch 149/200, Loss: 0.347, Accuracy: 0.875\n",
      "Epoch 150/200, Loss: 0.443, Accuracy: 0.844\n",
      "Epoch 151/200, Loss: 0.521, Accuracy: 0.75\n",
      "Epoch 152/200, Loss: 0.479, Accuracy: 0.781\n",
      "Epoch 153/200, Loss: 0.409, Accuracy: 0.812\n",
      "Epoch 154/200, Loss: 0.414, Accuracy: 0.812\n",
      "Epoch 155/200, Loss: 0.28, Accuracy: 0.875\n",
      "Epoch 156/200, Loss: 0.449, Accuracy: 0.781\n",
      "Epoch 157/200, Loss: 0.346, Accuracy: 0.875\n",
      "Epoch 158/200, Loss: 0.228, Accuracy: 0.938\n",
      "Epoch 159/200, Loss: 0.45, Accuracy: 0.812\n",
      "Epoch 160/200, Loss: 0.549, Accuracy: 0.75\n",
      "Epoch 161/200, Loss: 0.298, Accuracy: 0.906\n",
      "Epoch 162/200, Loss: 0.387, Accuracy: 0.781\n",
      "Epoch 163/200, Loss: 0.335, Accuracy: 0.844\n",
      "Epoch 164/200, Loss: 0.414, Accuracy: 0.781\n",
      "Epoch 165/200, Loss: 0.331, Accuracy: 0.844\n",
      "Epoch 166/200, Loss: 0.317, Accuracy: 0.844\n",
      "Epoch 167/200, Loss: 0.424, Accuracy: 0.844\n",
      "Epoch 168/200, Loss: 0.56, Accuracy: 0.781\n",
      "Epoch 169/200, Loss: 0.345, Accuracy: 0.875\n",
      "Epoch 170/200, Loss: 0.543, Accuracy: 0.688\n",
      "Epoch 171/200, Loss: 0.632, Accuracy: 0.688\n",
      "Epoch 172/200, Loss: 0.379, Accuracy: 0.906\n",
      "Epoch 173/200, Loss: 0.323, Accuracy: 0.906\n",
      "Epoch 174/200, Loss: 0.495, Accuracy: 0.781\n",
      "Epoch 175/200, Loss: 0.463, Accuracy: 0.781\n",
      "Epoch 176/200, Loss: 0.285, Accuracy: 0.906\n",
      "Epoch 177/200, Loss: 0.581, Accuracy: 0.719\n",
      "Epoch 178/200, Loss: 0.532, Accuracy: 0.75\n",
      "Epoch 179/200, Loss: 0.576, Accuracy: 0.688\n",
      "Epoch 180/200, Loss: 0.646, Accuracy: 0.656\n",
      "Epoch 181/200, Loss: 0.552, Accuracy: 0.656\n",
      "Epoch 182/200, Loss: 0.434, Accuracy: 0.844\n",
      "Epoch 183/200, Loss: 0.343, Accuracy: 0.844\n",
      "Epoch 184/200, Loss: 0.396, Accuracy: 0.812\n",
      "Epoch 185/200, Loss: 0.385, Accuracy: 0.875\n",
      "Epoch 186/200, Loss: 0.177, Accuracy: 1.0\n",
      "Epoch 187/200, Loss: 0.638, Accuracy: 0.688\n",
      "Epoch 188/200, Loss: 0.481, Accuracy: 0.75\n",
      "Epoch 189/200, Loss: 0.57, Accuracy: 0.719\n",
      "Epoch 190/200, Loss: 0.39, Accuracy: 0.875\n",
      "Epoch 191/200, Loss: 0.27, Accuracy: 0.875\n",
      "Epoch 192/200, Loss: 0.288, Accuracy: 0.875\n",
      "Epoch 193/200, Loss: 0.588, Accuracy: 0.75\n",
      "Epoch 194/200, Loss: 0.339, Accuracy: 0.906\n",
      "Epoch 195/200, Loss: 0.285, Accuracy: 0.906\n",
      "Epoch 196/200, Loss: 0.427, Accuracy: 0.812\n",
      "Epoch 197/200, Loss: 0.433, Accuracy: 0.875\n",
      "Epoch 198/200, Loss: 0.373, Accuracy: 0.844\n",
      "Epoch 199/200, Loss: 0.258, Accuracy: 0.938\n",
      "Epoch 200/200, Loss: 0.354, Accuracy: 0.875\n"
     ]
    }
   ],
   "source": [
    "# Train the network \n",
    "num_epochs = 200\n",
    "for epoch in range(num_epochs):\n",
    "    for inputs, labels in train_loader:\n",
    "        inputs = inputs.float()\n",
    "        labels = labels.float()\n",
    "        # Feed Forward\n",
    "        output = net(inputs)\n",
    "        # Loss Calculation\n",
    "        loss = criterion(output, labels)\n",
    "         # Clear the gradient buffer\n",
    "        optimizer.zero_grad()\n",
    "        # Backpropagation \n",
    "        loss.backward()\n",
    "        # Weight Update: w <-- w - lr * gradient\n",
    "        optimizer.step()\n",
    "    \n",
    "    #Accuracy\n",
    "    # Since we are using a sigmoid, we will need to perform some thresholding\n",
    "    output = (output>0.5).float()\n",
    "    # Accuracy: (output == labels).float().sum() / output.shape[0]\n",
    "    accuracy = (output == labels).float().mean()\n",
    "    # Print statistics \n",
    "    print(f\"Epoch {epoch+1}/{num_epochs}, Loss: {round(loss.item(),3)}, Accuracy: {round(accuracy.item(),3)}\")"
   ]
  },
  {
   "cell_type": "code",
   "execution_count": null,
   "id": "3c329121-c000-4f15-9172-b4c3235e1f84",
   "metadata": {},
   "outputs": [],
   "source": []
  }
 ],
 "metadata": {
  "kernelspec": {
   "display_name": "Python 3",
   "language": "python",
   "name": "python3"
  },
  "language_info": {
   "codemirror_mode": {
    "name": "ipython",
    "version": 3
   },
   "file_extension": ".py",
   "mimetype": "text/x-python",
   "name": "python",
   "nbconvert_exporter": "python",
   "pygments_lexer": "ipython3",
   "version": "3.10.10"
  }
 },
 "nbformat": 4,
 "nbformat_minor": 5
}
