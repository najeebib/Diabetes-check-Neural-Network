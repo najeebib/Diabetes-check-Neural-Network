{
 "cells": [
  {
   "cell_type": "code",
   "execution_count": 1,
   "id": "54579ce8-928e-4d66-b358-b8621511f4d2",
   "metadata": {},
   "outputs": [],
   "source": [
    "import numpy as np\n",
    "import torch\n",
    "import torch.nn as nn\n",
    "import pandas as pd\n",
    "from sklearn.preprocessing import StandardScaler\n",
    "from torch.utils.data import Dataset"
   ]
  },
  {
   "cell_type": "code",
   "execution_count": 2,
   "id": "7a8b45fc-22b4-4b90-aa7e-c8d58d36e0e7",
   "metadata": {},
   "outputs": [],
   "source": [
    "# Load the dataset using Pandas\n",
    "data = pd.read_csv('diabetes.csv')"
   ]
  },
  {
   "cell_type": "code",
   "execution_count": 3,
   "id": "9735d825-c626-4e5f-b94a-4a94e7861d51",
   "metadata": {},
   "outputs": [],
   "source": [
    "# For x: Extract out the dataset from all the rows (all samples) and all columns except last column (all features). \n",
    "# For y: Extract out the last column (which is the label)\n",
    "# Convert both to numpy using the .values method\n",
    "x = data.iloc[:,0:-1].values\n",
    "y_string = list(data.iloc[:,-1])"
   ]
  },
  {
   "cell_type": "code",
   "execution_count": 4,
   "id": "2f4049dc-96ff-4e2f-b7c0-aeca9eb979a4",
   "metadata": {},
   "outputs": [
    {
     "name": "stdout",
     "output_type": "stream",
     "text": [
      "[[  6.  148.   72.   35.    0.   33.6  50. ]\n",
      " [  1.   85.   66.   29.    0.   26.6  31. ]\n",
      " [  8.  183.   64.    0.    0.   23.3  32. ]]\n",
      "['positive', 'negative', 'positive']\n"
     ]
    }
   ],
   "source": [
    "print(x[:3])\n",
    "print(y_string[:3])"
   ]
  },
  {
   "cell_type": "code",
   "execution_count": 5,
   "id": "d14835a1-423b-4afe-a4b2-d71cc9d6e9be",
   "metadata": {},
   "outputs": [],
   "source": [
    "# neural network only understand numbers! So convert the string to labels\n",
    "y_int = []\n",
    "for s in y_string:\n",
    "    if s == 'positive':\n",
    "        y_int.append(1)\n",
    "    else:\n",
    "        y_int.append(0)"
   ]
  },
  {
   "cell_type": "code",
   "execution_count": 6,
   "id": "d8b603c5-c4c7-4b0c-a0ce-0e2eb078d425",
   "metadata": {},
   "outputs": [],
   "source": [
    "# convert to an array\n",
    "y = np.array(y_int, dtype='float64')"
   ]
  },
  {
   "cell_type": "code",
   "execution_count": 7,
   "id": "920b7424-9be0-4ddf-a284-a2be6d1ca8a2",
   "metadata": {},
   "outputs": [],
   "source": [
    "# Feature Normalization. All features should have the same range of values (-1,1)\n",
    "sc = StandardScaler()\n",
    "x = sc.fit_transform(x)"
   ]
  },
  {
   "cell_type": "code",
   "execution_count": 8,
   "id": "be454e3a-a8ac-425c-ae0a-b334c029c618",
   "metadata": {},
   "outputs": [],
   "source": [
    "#  convert the arrays to PyTorch tensors\n",
    "x = torch.tensor(x)\n",
    "# add an extra dimension to convert this array to 2D\n",
    "y = torch.tensor(y).unsqueeze(1)"
   ]
  },
  {
   "cell_type": "code",
   "execution_count": 9,
   "id": "06983f8d-3d48-493e-9179-c79a06faa71e",
   "metadata": {},
   "outputs": [
    {
     "name": "stdout",
     "output_type": "stream",
     "text": [
      "torch.Size([768, 7])\n",
      "torch.Size([768, 1])\n"
     ]
    }
   ],
   "source": [
    "print(x.shape)\n",
    "print(y.shape)"
   ]
  },
  {
   "cell_type": "code",
   "execution_count": 10,
   "id": "f573bd46-51a7-467d-89f7-8ce3b1e2f3f7",
   "metadata": {},
   "outputs": [],
   "source": [
    "class Dataset(Dataset):\n",
    "    def __init__(self, x, y):\n",
    "        self.x = x\n",
    "        self.y = y\n",
    "\n",
    "    def __getitem__(self, index):\n",
    "        # Get one item from the dataset\n",
    "        return self.x[index], self.y[index]\n",
    "\n",
    "    def __len__(self):\n",
    "        return len(self.x)"
   ]
  },
  {
   "cell_type": "code",
   "execution_count": 11,
   "id": "58b3bdd2-d923-4b8d-8765-b60bd0404364",
   "metadata": {},
   "outputs": [],
   "source": [
    "dataset = Dataset(x,y)"
   ]
  },
  {
   "cell_type": "code",
   "execution_count": 12,
   "id": "d9fa42d1-5c98-4fff-9836-2803968a268e",
   "metadata": {},
   "outputs": [
    {
     "data": {
      "text/plain": [
       "768"
      ]
     },
     "execution_count": 12,
     "metadata": {},
     "output_type": "execute_result"
    }
   ],
   "source": [
    "len(dataset)"
   ]
  },
  {
   "cell_type": "code",
   "execution_count": 13,
   "id": "9ab0b5b4-ead5-47f8-83e7-95f2080cc004",
   "metadata": {},
   "outputs": [],
   "source": [
    "# Load the data to dataloader for batch processing and shuffling\n",
    "train_loader = torch.utils.data.DataLoader(dataset = dataset,\n",
    "                           batch_size = 32,\n",
    "                           shuffle = True)"
   ]
  },
  {
   "cell_type": "code",
   "execution_count": 14,
   "id": "ccb92109-6784-4887-8e1a-b90e55602dfe",
   "metadata": {},
   "outputs": [
    {
     "data": {
      "text/plain": [
       "<torch.utils.data.dataloader.DataLoader at 0x2721cd75360>"
      ]
     },
     "execution_count": 14,
     "metadata": {},
     "output_type": "execute_result"
    }
   ],
   "source": [
    "train_loader"
   ]
  },
  {
   "cell_type": "code",
   "execution_count": 15,
   "id": "5a2e5589-a4ab-40bf-8262-eea3ef1bf521",
   "metadata": {},
   "outputs": [
    {
     "name": "stdout",
     "output_type": "stream",
     "text": [
      "There is 24 batches in the dataset\n",
      "For one iteration (batch), there is:\n",
      "Data:    torch.Size([32, 7])\n",
      "Labels:  torch.Size([32, 1])\n"
     ]
    }
   ],
   "source": [
    "# print data loader\n",
    "print(\"There is {} batches in the dataset\".format(len(train_loader)))\n",
    "for (x,y) in train_loader:\n",
    "    print(\"For one iteration (batch), there is:\")\n",
    "    print(\"Data:    {}\".format(x.shape))\n",
    "    print(\"Labels:  {}\".format(y.shape))\n",
    "    break"
   ]
  },
  {
   "cell_type": "code",
   "execution_count": 16,
   "id": "9d45bf4a-30ad-4316-9f86-f0e7aa385a52",
   "metadata": {},
   "outputs": [],
   "source": [
    "class Model(nn.Module):\n",
    "    def __init__(self,input_features, output_features):\n",
    "        super(Model, self).__init__()\n",
    "        self.fc1 = nn.Linear(input_features, 5)\n",
    "        self.fc2 = nn.Linear(5, 4)\n",
    "        self.fc3 = nn.Linear(4, 3)\n",
    "        self.fc4 = nn.Linear(3, output_features)\n",
    "        self.sigmoid = nn.Sigmoid()\n",
    "        self.tanh = nn.Tanh()\n",
    "\n",
    "    def forward(self, x):\n",
    "        out = self.fc1(x)\n",
    "        out = self.tanh(out)\n",
    "        out = self.fc2(out)\n",
    "        out = self.tanh(out)\n",
    "        out = self.fc3(out)\n",
    "        out = self.tanh(out)\n",
    "        out = self.fc4(out)\n",
    "        out = self.sigmoid(out)\n",
    "        return out"
   ]
  },
  {
   "cell_type": "code",
   "execution_count": 18,
   "id": "e09b7e3d-bc94-43c7-8e28-c8396aaccc2c",
   "metadata": {},
   "outputs": [],
   "source": [
    "# Create the network\n",
    "net = Model(7,1)\n",
    "# define loss function\n",
    "criterion = torch.nn.BCELoss(size_average=True)\n",
    "# use SGD with momentum with a learning rate of 0.1\n",
    "optimizer = torch.optim.SGD(net.parameters(), lr=0.1, momentum=0.9)"
   ]
  },
  {
   "cell_type": "code",
   "execution_count": null,
   "id": "53b5212e-32d2-416a-a1f1-421b5b21a549",
   "metadata": {},
   "outputs": [],
   "source": []
  }
 ],
 "metadata": {
  "kernelspec": {
   "display_name": "Python 3",
   "language": "python",
   "name": "python3"
  },
  "language_info": {
   "codemirror_mode": {
    "name": "ipython",
    "version": 3
   },
   "file_extension": ".py",
   "mimetype": "text/x-python",
   "name": "python",
   "nbconvert_exporter": "python",
   "pygments_lexer": "ipython3",
   "version": "3.10.10"
  }
 },
 "nbformat": 4,
 "nbformat_minor": 5
}
